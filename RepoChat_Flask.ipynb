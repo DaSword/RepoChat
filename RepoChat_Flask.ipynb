{
  "cells": [
    {
      "cell_type": "code",
      "execution_count": 1,
      "metadata": {
        "colab": {
          "base_uri": "https://localhost:8080/"
        },
        "id": "jHUbO0r40bD3",
        "outputId": "cd666581-eaff-4d28-c640-f5a12cf0877b"
      },
      "outputs": [
        {
          "name": "stderr",
          "output_type": "stream",
          "text": [
            "WARNING: You are using pip version 21.3.1; however, version 23.1.2 is available.\n",
            "You should consider upgrading via the 'C:\\Users\\Admin\\AppData\\Local\\Programs\\Python\\Python39\\python.exe -m pip install --upgrade pip' command.\n"
          ]
        }
      ],
      "source": [
        "!pip -q install langchain openai huggingface_hub transformers tiktoken faiss-cpu flask flask_ngrok pyngrok==4.1.1"
      ]
    },
    {
      "cell_type": "code",
      "execution_count": 2,
      "metadata": {
        "colab": {
          "base_uri": "https://localhost:8080/"
        },
        "id": "-nfznnAj1hzx",
        "outputId": "116f813c-5f9c-45af-86ec-eb6fcd9e26b5"
      },
      "outputs": [
        {
          "name": "stdout",
          "output_type": "stream",
          "text": [
            "Downloading ngrok ...\n",
            "Downloading ngrok: 0%\n",
            "Downloading ngrok: 1%\n",
            "Downloading ngrok: 2%\n",
            "Downloading ngrok: 3%\n",
            "Downloading ngrok: 4%\n",
            "Downloading ngrok: 5%\n",
            "Downloading ngrok: 6%\n",
            "Downloading ngrok: 7%\n",
            "Downloading ngrok: 8%\n",
            "Downloading ngrok: 9%\n",
            "Downloading ngrok: 10%\n",
            "Downloading ngrok: 11%\n",
            "Downloading ngrok: 12%\n",
            "Downloading ngrok: 13%\n",
            "Downloading ngrok: 14%\n",
            "Downloading ngrok: 15%\n",
            "Downloading ngrok: 16%\n",
            "Downloading ngrok: 17%\n",
            "Downloading ngrok: 18%\n",
            "Downloading ngrok: 19%\n",
            "Downloading ngrok: 20%\n",
            "Downloading ngrok: 21%\n",
            "Downloading ngrok: 22%\n",
            "Downloading ngrok: 23%\n",
            "Downloading ngrok: 24%\n",
            "Downloading ngrok: 25%\n",
            "Downloading ngrok: 26%\n",
            "Downloading ngrok: 27%\n",
            "Downloading ngrok: 28%\n",
            "Downloading ngrok: 29%\n",
            "Downloading ngrok: 30%\n",
            "Downloading ngrok: 31%\n",
            "Downloading ngrok: 32%\n",
            "Downloading ngrok: 33%\n",
            "Downloading ngrok: 34%\n",
            "Downloading ngrok: 35%\n",
            "Downloading ngrok: 36%\n",
            "Downloading ngrok: 37%\n",
            "Downloading ngrok: 38%\n",
            "Downloading ngrok: 39%\n",
            "Downloading ngrok: 40%\n",
            "Downloading ngrok: 41%\n",
            "Downloading ngrok: 42%\n",
            "Downloading ngrok: 43%\n",
            "Downloading ngrok: 44%\n",
            "Downloading ngrok: 45%\n",
            "Downloading ngrok: 46%\n",
            "Downloading ngrok: 47%\n",
            "Downloading ngrok: 48%\n",
            "Downloading ngrok: 49%\n",
            "Downloading ngrok: 50%\n",
            "Downloading ngrok: 51%\n",
            "Downloading ngrok: 52%\n",
            "Downloading ngrok: 53%\n",
            "Downloading ngrok: 54%\n",
            "Downloading ngrok: 55%\n",
            "Downloading ngrok: 56%\n",
            "Downloading ngrok: 57%\n",
            "Downloading ngrok: 58%\n",
            "Downloading ngrok: 59%\n",
            "Downloading ngrok: 60%\n",
            "Downloading ngrok: 61%\n",
            "Downloading ngrok: 62%\n",
            "Downloading ngrok: 63%\n",
            "Downloading ngrok: 64%\n",
            "Downloading ngrok: 65%\n",
            "Downloading ngrok: 66%\n",
            "Downloading ngrok: 67%\n",
            "Downloading ngrok: 68%\n",
            "Downloading ngrok: 69%\n",
            "Downloading ngrok: 70%\n",
            "Downloading ngrok: 71%\n",
            "Downloading ngrok: 72%\n",
            "Downloading ngrok: 73%\n",
            "Downloading ngrok: 74%\n",
            "Downloading ngrok: 75%\n",
            "Downloading ngrok: 76%\n",
            "Downloading ngrok: 77%\n",
            "Downloading ngrok: 78%\n",
            "Downloading ngrok: 79%\n",
            "Downloading ngrok: 80%\n",
            "Downloading ngrok: 81%\n",
            "Downloading ngrok: 82%\n",
            "Downloading ngrok: 83%\n",
            "Downloading ngrok: 84%\n",
            "Downloading ngrok: 85%\n",
            "Downloading ngrok: 86%\n",
            "Downloading ngrok: 87%\n",
            "Downloading ngrok: 88%\n",
            "Downloading ngrok: 89%\n",
            "Downloading ngrok: 90%\n",
            "Downloading ngrok: 91%\n",
            "Downloading ngrok: 92%\n",
            "Downloading ngrok: 93%\n",
            "Downloading ngrok: 94%\n",
            "Downloading ngrok: 95%\n",
            "Downloading ngrok: 96%\n",
            "Downloading ngrok: 97%\n",
            "Downloading ngrok: 98%\n",
            "Downloading ngrok: 99%\n",
            "Downloading ngrok: 100%\n",
            "                                                                                                    \n",
            "Installing ngrok ... \n",
            "                                                                                                    \n",
            "Authtoken saved to configuration file: C:\\Users\\Admin/.ngrok2/ngrok.yml\n"
          ]
        }
      ],
      "source": [
        "!ngrok authtoken 2RA0tLTxHtqWNZ91w7oVm8fWzcV_2DDirNN4J16413H6iioso"
      ]
    },
    {
      "cell_type": "code",
      "execution_count": 4,
      "metadata": {
        "colab": {
          "base_uri": "https://localhost:8080/",
          "height": 339
        },
        "id": "WjT5TmlD0qMh",
        "outputId": "85fec455-cbb9-4d66-d5f5-64c644f653d1"
      },
      "outputs": [
        {
          "ename": "ValidationError",
          "evalue": "1 validation error for OpenAIEmbeddings\n__root__\n  Did not find openai_api_key, please add an environment variable `OPENAI_API_KEY` which contains it, or pass  `openai_api_key` as a named parameter. (type=value_error)",
          "output_type": "error",
          "traceback": [
            "\u001b[1;31m---------------------------------------------------------------------------\u001b[0m",
            "\u001b[1;31mValidationError\u001b[0m                           Traceback (most recent call last)",
            "\u001b[1;32m~\\AppData\\Local\\Temp/ipykernel_13364/517039649.py\u001b[0m in \u001b[0;36m<module>\u001b[1;34m\u001b[0m\n\u001b[0;32m     17\u001b[0m \u001b[1;32mfrom\u001b[0m \u001b[0mlangchain\u001b[0m\u001b[1;33m.\u001b[0m\u001b[0mllms\u001b[0m \u001b[1;32mimport\u001b[0m \u001b[0mOpenAI\u001b[0m\u001b[1;33m\u001b[0m\u001b[1;33m\u001b[0m\u001b[0m\n\u001b[0;32m     18\u001b[0m \u001b[1;33m\u001b[0m\u001b[0m\n\u001b[1;32m---> 19\u001b[1;33m \u001b[0membeddings\u001b[0m \u001b[1;33m=\u001b[0m \u001b[0mOpenAIEmbeddings\u001b[0m\u001b[1;33m(\u001b[0m\u001b[1;33m)\u001b[0m\u001b[1;33m\u001b[0m\u001b[1;33m\u001b[0m\u001b[0m\n\u001b[0m\u001b[0;32m     20\u001b[0m \u001b[1;33m\u001b[0m\u001b[0m\n\u001b[0;32m     21\u001b[0m \u001b[1;33m\u001b[0m\u001b[0m\n",
            "\u001b[1;32mc:\\Users\\Admin\\AppData\\Local\\Programs\\Python\\Python39\\lib\\site-packages\\pydantic\\main.cp39-win_amd64.pyd\u001b[0m in \u001b[0;36mpydantic.main.BaseModel.__init__\u001b[1;34m()\u001b[0m\n",
            "\u001b[1;31mValidationError\u001b[0m: 1 validation error for OpenAIEmbeddings\n__root__\n  Did not find openai_api_key, please add an environment variable `OPENAI_API_KEY` which contains it, or pass  `openai_api_key` as a named parameter. (type=value_error)"
          ]
        }
      ],
      "source": [
        "from flask_ngrok import run_with_ngrok\n",
        "from flask import Flask, render_template, request, session\n",
        "\n",
        "app = Flask(__name__,static_folder='static')\n",
        "run_with_ngrok(app)\n",
        "app.secret_key = 'your-secret-key'\n",
        "\n",
        "# Setup app\n",
        "import os\n",
        "import getpass\n",
        "from langchain.document_loaders import PyPDFLoader, TextLoader\n",
        "from langchain.embeddings.openai import OpenAIEmbeddings\n",
        "from langchain.text_splitter import RecursiveCharacterTextSplitter, CharacterTextSplitter\n",
        "from langchain.vectorstores import FAISS\n",
        "from langchain.chains import ConversationalRetrievalChain, RetrievalQA\n",
        "from langchain.chat_models import ChatOpenAI\n",
        "from langchain.llms import OpenAI\n",
        "\n",
        "\n",
        "\n",
        "\n",
        "qa_chain = None\n",
        "\n",
        "def initialize_qa_chain(link, api_key):\n",
        "    global qa_chain\n",
        "    # Initialize the QA chain with the provided link and API key\n",
        "    os.environ['OPENAI_API_KEY'] = api_key\n",
        "    # clone repo\n",
        "    os.system(f\"git clone {link}\")\n",
        "\n",
        "    embeddings = OpenAIEmbeddings()\n",
        "\n",
        "    # Set up db\n",
        "    root_dir = get_folder_name(link)\n",
        "    texts = []\n",
        "\n",
        "    # Go through each folder\n",
        "    for dirpath, dirnames, filenames in os.walk(root_dir):\n",
        "\n",
        "        # Go through each file\n",
        "        for file in filenames:\n",
        "            try:\n",
        "                # Load up the file as a doc and split\n",
        "                loader = TextLoader(os.path.join(dirpath, file), encoding='utf-8')\n",
        "                texts.extend(loader.load_and_split())\n",
        "            except Exception as e:\n",
        "                pass\n",
        "\n",
        "    docsearch = FAISS.from_documents(texts, embeddings)\n",
        "    retriever=docsearch.as_retriever()\n",
        "    # retriever.search_kwargs['distance_metric'] = 'cos'\n",
        "    retriever.search_kwargs['k'] = 4\n",
        "\n",
        "    qa_chain = RetrievalQA.from_chain_type(llm=OpenAI(), chain_type=\"stuff\", retriever=retriever, return_source_documents=False)\n",
        "\n",
        "\n",
        "@app.route('/', methods=['GET', 'POST'])\n",
        "def home():\n",
        "\n",
        "    initialized = False\n",
        "    if request.method == 'POST':\n",
        "        if 'link' in request.form and 'api_key' in request.form:\n",
        "            link = request.form['link']\n",
        "            api_key = request.form['api_key']\n",
        "            initialize_qa_chain(link, api_key)\n",
        "            initialized = True\n",
        "        elif 'question' in request.form:\n",
        "            question = request.form['question']\n",
        "            result = process_question(question)\n",
        "            valid_qa_chain = True\n",
        "            if result == \"\":\n",
        "                result = \"Please initialize repo before querying\"\n",
        "                valid_qa_chain = False\n",
        "            return render_template('index.html', result=result, initialized=True&valid_qa_chain)\n",
        "    return render_template('index.html', initialized=initialized)\n",
        "\n",
        "def process_question(question):\n",
        "    if qa_chain:\n",
        "      ans = qa_chain({\"query\": question})\n",
        "      res = ans[\"result\"]\n",
        "      response = f\"Response = {res}\"\n",
        "    else:\n",
        "      response = \"\"\n",
        "    return response\n",
        "\n",
        "def get_folder_name(repo_link):\n",
        "  if repo_link.endswith('.git'):\n",
        "        repo_link = repo_link[:-4]\n",
        "\n",
        "  # Split the repository link by the forward slash '/'\n",
        "  split_link = repo_link.split('/')\n",
        "\n",
        "  # Retrieve the last part of the split link, which is the repository folder name\n",
        "  folder_name = split_link[-1]\n",
        "\n",
        "  return folder_name\n",
        "\n",
        "if __name__ == '__main__':\n",
        "    app.run()\n"
      ]
    },
    {
      "cell_type": "code",
      "execution_count": null,
      "metadata": {
        "id": "3DE_olsgHU7f"
      },
      "outputs": [],
      "source": []
    }
  ],
  "metadata": {
    "colab": {
      "provenance": []
    },
    "kernelspec": {
      "display_name": "Python 3",
      "language": "python",
      "name": "python3"
    },
    "language_info": {
      "codemirror_mode": {
        "name": "ipython",
        "version": 3
      },
      "file_extension": ".py",
      "mimetype": "text/x-python",
      "name": "python",
      "nbconvert_exporter": "python",
      "pygments_lexer": "ipython3",
      "version": "3.9.7"
    },
    "vscode": {
      "interpreter": {
        "hash": "0d591c6e422414675974e227c13f5382000c440fedd3c5006ef2be5d887f0ba7"
      }
    }
  },
  "nbformat": 4,
  "nbformat_minor": 0
}
